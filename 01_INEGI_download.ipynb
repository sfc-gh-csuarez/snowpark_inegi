{
 "cells": [
  {
   "cell_type": "code",
   "execution_count": 2,
   "metadata": {},
   "outputs": [
    {
     "name": "stdout",
     "output_type": "stream",
     "text": [
      "Descargado\n",
      "Archivo en directorio...OK\n",
      "Unzipped\n",
      "CSV creado!\n",
      "/Users/csuarez/Documents/DEV/VOHL/INEGI\n",
      "total registros: 189432\n",
      "limite: 27061\n",
      "diferencia: 5\n",
      "JSON /Users/csuarez/Documents/DEV/VOHL/INEGI/JSON/inegi1.json creado!\n",
      "JSON /Users/csuarez/Documents/DEV/VOHL/INEGI/JSON/inegi2.json creado!\n",
      "JSON /Users/csuarez/Documents/DEV/VOHL/INEGI/JSON/inegi3.json creado!\n",
      "JSON /Users/csuarez/Documents/DEV/VOHL/INEGI/JSON/inegi4.json creado!\n",
      "JSON /Users/csuarez/Documents/DEV/VOHL/INEGI/JSON/inegi5.json creado!\n",
      "JSON /Users/csuarez/Documents/DEV/VOHL/INEGI/JSON/inegi6.json creado!\n",
      "JSON /Users/csuarez/Documents/DEV/VOHL/INEGI/JSON/inegi7.json creado!\n",
      "JSON /Users/csuarez/Documents/DEV/VOHL/INEGI/JSON/inegi8.json creado!\n",
      "JSON particionado!\n",
      "Remote listo!\n"
     ]
    }
   ],
   "source": [
    "#Script para ejección de descarga de archivo y realizar transformaciones (Split a JSON)\n",
    "from inegidata import urlDownload\n",
    "\n",
    "# opción 'remote' para descarga desde webhost de INEGI\n",
    "# opciób 'local' para descompresión desde repo local\n",
    "\n",
    "urlDownload('remote')\n",
    "\n",
    "\n",
    "\n",
    " \n",
    "\n",
    "\n",
    "\n",
    " \n",
    "\n"
   ]
  }
 ],
 "metadata": {
  "kernelspec": {
   "display_name": "Python 3.8.13 ('snowpark_env')",
   "language": "python",
   "name": "python3"
  },
  "language_info": {
   "codemirror_mode": {
    "name": "ipython",
    "version": 3
   },
   "file_extension": ".py",
   "mimetype": "text/x-python",
   "name": "python",
   "nbconvert_exporter": "python",
   "pygments_lexer": "ipython3",
   "version": "3.8.13"
  },
  "orig_nbformat": 4,
  "vscode": {
   "interpreter": {
    "hash": "d02ed8ebcaf737aa77f4daf707421e72280383db8c31fc293f4cc947da23ff29"
   }
  }
 },
 "nbformat": 4,
 "nbformat_minor": 2
}
