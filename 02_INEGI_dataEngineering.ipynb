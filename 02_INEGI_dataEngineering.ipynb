{
 "cells": [
  {
   "cell_type": "code",
   "execution_count": 1,
   "metadata": {},
   "outputs": [],
   "source": [
    "#Importar librerias\n",
    "from snowflake.snowpark.session import Session\n",
    "from snowflake.snowpark.functions import call_udf\n",
    "from config import connection_parameters\n",
    "from ingesta import ingesta_setup,solo_archivos\n",
    "import pandas as pd\n",
    "import streamlit as st\n",
    "import json\n",
    "import csv\n",
    "import gzip\n",
    "import os"
   ]
  },
  {
   "cell_type": "code",
   "execution_count": 2,
   "metadata": {},
   "outputs": [
    {
     "name": "stderr",
     "output_type": "stream",
     "text": [
      "2022-12-15 19:44:50.960 INFO    snowflake.connector.connection: Snowflake Connector for Python Version: 2.7.12, Python Version: 3.8.13, Platform: macOS-10.16-x86_64-i386-64bit\n",
      "2022-12-15 19:44:50.961 INFO    snowflake.connector.connection: This connection is in OCSP Fail Open Mode. TLS Certificates would be checked for validity and revocation status. Any other Certificate Revocation related exceptions or OCSP Responder failures would be disregarded in favor of connectivity.\n",
      "2022-12-15 19:44:50.962 INFO    snowflake.connector.connection: Setting use_openssl_only mode to False\n",
      "2022-12-15 19:44:52.217 INFO    snowflake.snowpark.session: Snowpark Session information: \n",
      "\"version\" : 0.12.0,\n",
      "\"python.version\" : 3.8.13,\n",
      "\"python.connector.version\" : 2.7.12,\n",
      "\"python.connector.session.id\" : 593023319285782,\n",
      "\"os.name\" : Darwin\n",
      "\n"
     ]
    },
    {
     "name": "stdout",
     "output_type": "stream",
     "text": [
      "Conectado\n"
     ]
    }
   ],
   "source": [
    "#Definir sesión y objetos Snowflake\n",
    "sesion = Session.builder.configs(connection_parameters).create()\n",
    "print(\"Conectado\")"
   ]
  },
  {
   "cell_type": "code",
   "execution_count": 3,
   "metadata": {},
   "outputs": [
    {
     "name": "stderr",
     "output_type": "stream",
     "text": [
      "2022-12-15 19:44:56.913 INFO    snowflake.connector.cursor: query: [use role devrole]\n",
      "2022-12-15 19:44:57.139 INFO    snowflake.connector.cursor: query execution done\n",
      "2022-12-15 19:44:57.140 INFO    snowflake.connector.cursor: query: [use database INEGI]\n",
      "2022-12-15 19:44:57.301 INFO    snowflake.connector.cursor: query execution done\n",
      "2022-12-15 19:44:57.302 INFO    snowflake.connector.cursor: query: [use warehouse PYTHON_WH]\n",
      "2022-12-15 19:44:57.423 INFO    snowflake.connector.cursor: query execution done\n",
      "2022-12-15 19:44:57.424 INFO    snowflake.connector.cursor: query: [use schema PUBLIC]\n",
      "2022-12-15 19:44:57.554 INFO    snowflake.connector.cursor: query execution done\n",
      "2022-12-15 19:44:57.558 INFO    snowflake.connector.cursor: query: [select current_warehouse(), current_database(), current_schema()]\n",
      "2022-12-15 19:44:57.711 INFO    snowflake.connector.cursor: query execution done\n"
     ]
    },
    {
     "name": "stdout",
     "output_type": "stream",
     "text": [
      "[Row(CURRENT_WAREHOUSE()='PYTHON_WH', CURRENT_DATABASE()='INEGI', CURRENT_SCHEMA()='PUBLIC')]\n"
     ]
    }
   ],
   "source": [
    "#Snowflake Objetos\n",
    "sesion.use_role(\"devrole\")\n",
    "sesion.use_database(\"INEGI\")\n",
    "sesion.use_warehouse(\"PYTHON_WH\")\n",
    "sesion.use_schema(\"PUBLIC\")\n",
    "print(sesion.sql(\"select current_warehouse(), current_database(), current_schema()\").collect()) "
   ]
  },
  {
   "cell_type": "code",
   "execution_count": 4,
   "metadata": {},
   "outputs": [
    {
     "name": "stderr",
     "output_type": "stream",
     "text": [
      "2022-12-15 19:45:03.051 INFO    snowflake.connector.cursor: query: [CREATE STAGE IF NOT EXISTS inegi]\n",
      "2022-12-15 19:45:03.259 INFO    snowflake.connector.cursor: query execution done\n",
      "2022-12-15 19:45:03.262 INFO    snowflake.connector.cursor: query: [PUT 'file:////Users/csuarez/Documents/DEV/VOHL/NEGI/JSON/inegi3.json.gz' '@inegi...]\n",
      "2022-12-15 19:45:03.524 INFO    snowflake.connector.cursor: query execution done\n",
      "2022-12-15 19:45:07.518 INFO    snowflake.connector.cursor: query: [PUT 'file:////Users/csuarez/Documents/DEV/VOHL/NEGI/JSON/inegi2.json.gz' '@inegi...]\n"
     ]
    },
    {
     "name": "stdout",
     "output_type": "stream",
     "text": [
      "UPLOADED\n"
     ]
    },
    {
     "name": "stderr",
     "output_type": "stream",
     "text": [
      "2022-12-15 19:45:07.747 INFO    snowflake.connector.cursor: query execution done\n",
      "2022-12-15 19:45:09.359 INFO    snowflake.connector.cursor: query: [PUT 'file:////Users/csuarez/Documents/DEV/VOHL/NEGI/JSON/inegi1.json.gz' '@inegi...]\n"
     ]
    },
    {
     "name": "stdout",
     "output_type": "stream",
     "text": [
      "UPLOADED\n"
     ]
    },
    {
     "name": "stderr",
     "output_type": "stream",
     "text": [
      "2022-12-15 19:45:09.661 INFO    snowflake.connector.cursor: query execution done\n",
      "2022-12-15 19:45:10.982 INFO    snowflake.connector.cursor: query: [PUT 'file:////Users/csuarez/Documents/DEV/VOHL/NEGI/JSON/inegi8.json.gz' '@inegi...]\n"
     ]
    },
    {
     "name": "stdout",
     "output_type": "stream",
     "text": [
      "UPLOADED\n"
     ]
    },
    {
     "name": "stderr",
     "output_type": "stream",
     "text": [
      "2022-12-15 19:45:11.193 INFO    snowflake.connector.cursor: query execution done\n",
      "2022-12-15 19:45:11.521 INFO    snowflake.connector.cursor: query: [PUT 'file:////Users/csuarez/Documents/DEV/VOHL/NEGI/JSON/inegi4.json.gz' '@inegi...]\n"
     ]
    },
    {
     "name": "stdout",
     "output_type": "stream",
     "text": [
      "UPLOADED\n"
     ]
    },
    {
     "name": "stderr",
     "output_type": "stream",
     "text": [
      "2022-12-15 19:45:11.733 INFO    snowflake.connector.cursor: query execution done\n",
      "2022-12-15 19:45:12.830 INFO    snowflake.connector.cursor: query: [PUT 'file:////Users/csuarez/Documents/DEV/VOHL/NEGI/JSON/inegi5.json.gz' '@inegi...]\n",
      "2022-12-15 19:45:13.026 INFO    snowflake.connector.cursor: query execution done\n"
     ]
    },
    {
     "name": "stdout",
     "output_type": "stream",
     "text": [
      "UPLOADED\n"
     ]
    },
    {
     "name": "stderr",
     "output_type": "stream",
     "text": [
      "2022-12-15 19:45:13.858 INFO    snowflake.connector.cursor: query: [PUT 'file:////Users/csuarez/Documents/DEV/VOHL/NEGI/JSON/inegi7.json.gz' '@inegi...]\n",
      "2022-12-15 19:45:14.047 INFO    snowflake.connector.cursor: query execution done\n"
     ]
    },
    {
     "name": "stdout",
     "output_type": "stream",
     "text": [
      "UPLOADED\n"
     ]
    },
    {
     "name": "stderr",
     "output_type": "stream",
     "text": [
      "2022-12-15 19:45:14.795 INFO    snowflake.connector.cursor: query: [PUT 'file:////Users/csuarez/Documents/DEV/VOHL/NEGI/JSON/inegi6.json.gz' '@inegi...]\n"
     ]
    },
    {
     "name": "stdout",
     "output_type": "stream",
     "text": [
      "UPLOADED\n"
     ]
    },
    {
     "name": "stderr",
     "output_type": "stream",
     "text": [
      "2022-12-15 19:45:15.005 INFO    snowflake.connector.cursor: query execution done\n"
     ]
    },
    {
     "name": "stdout",
     "output_type": "stream",
     "text": [
      "UPLOADED\n"
     ]
    }
   ],
   "source": [
    "\n",
    "#Crear internal Stage\n",
    "env = ingesta_setup()\n",
    "sesion.sql('CREATE STAGE IF NOT EXISTS '+ env['snowstage']).collect()\n",
    "#Upload archivos\n",
    "archivos_dir = os.path.join(os.getcwd(),'JSON')\n",
    "archivos = solo_archivos(archivos_dir)\n",
    "\n",
    "for file in archivos:\n",
    "    put_result = sesion.file.put('file:///' + file , '@' + env['snowstage'])\n",
    "    print(put_result[0].status)\n",
    "    #Copy_into\n"
   ]
  },
  {
   "cell_type": "code",
   "execution_count": 5,
   "metadata": {},
   "outputs": [
    {
     "name": "stderr",
     "output_type": "stream",
     "text": [
      "2022-12-15 19:46:51.406 INFO    snowflake.snowpark.session: Closing session: 593023319285782\n",
      "2022-12-15 19:46:51.409 INFO    snowflake.snowpark.session: Canceling all running queries\n",
      "2022-12-15 19:46:51.409 INFO    snowflake.connector.cursor: query: [select system$cancel_all_queries(593023319285782)]\n",
      "2022-12-15 19:46:51.558 INFO    snowflake.connector.cursor: query execution done\n",
      "2022-12-15 19:46:51.563 INFO    snowflake.connector.connection: closed\n",
      "2022-12-15 19:46:51.657 INFO    snowflake.connector.connection: No async queries seem to be running, deleting session\n",
      "2022-12-15 19:46:51.797 INFO    snowflake.snowpark.session: Closed session: 593023319285782\n"
     ]
    },
    {
     "name": "stdout",
     "output_type": "stream",
     "text": [
      "Sesión terminada\n"
     ]
    }
   ],
   "source": [
    "sesion.close()\n",
    "print(\"Sesión terminada\")"
   ]
  }
 ],
 "metadata": {
  "kernelspec": {
   "display_name": "Python 3.8.13 ('snowpark_env')",
   "language": "python",
   "name": "python3"
  },
  "language_info": {
   "codemirror_mode": {
    "name": "ipython",
    "version": 3
   },
   "file_extension": ".py",
   "mimetype": "text/x-python",
   "name": "python",
   "nbconvert_exporter": "python",
   "pygments_lexer": "ipython3",
   "version": "3.8.13"
  },
  "orig_nbformat": 4,
  "vscode": {
   "interpreter": {
    "hash": "d02ed8ebcaf737aa77f4daf707421e72280383db8c31fc293f4cc947da23ff29"
   }
  }
 },
 "nbformat": 4,
 "nbformat_minor": 2
}
