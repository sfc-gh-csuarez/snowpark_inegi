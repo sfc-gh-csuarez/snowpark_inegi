{
 "cells": [
  {
   "cell_type": "code",
   "execution_count": 22,
   "metadata": {},
   "outputs": [],
   "source": [
    "from snowflake.snowpark.session import Session\n",
    "from snowflake.snowpark.functions import udf\n",
    "from snowflake.snowpark.types import StringType\n",
    "from snowflake.snowpark.types import IntegerType\n",
    "from config import connection_parameters\n"
   ]
  },
  {
   "cell_type": "code",
   "execution_count": 23,
   "metadata": {},
   "outputs": [
    {
     "name": "stdout",
     "output_type": "stream",
     "text": [
      "Conectado\n",
      "[Row(CURRENT_WAREHOUSE()='INEGI_WH', CURRENT_DATABASE()='INEGI', CURRENT_ROLE()='INEGI_ROLE')]\n"
     ]
    }
   ],
   "source": [
    "#Definir sesión y objetos Snowflake\n",
    "sesion = Session.builder.configs(connection_parameters).create()\n",
    "if sesion != None:\n",
    "    print(\"Conectado\")\n",
    "    sesion.use_database('inegi')\n",
    "    print(sesion.sql(\"select current_warehouse(), current_database(), current_role()\").collect()) \n",
    "else:\n",
    "    print(\"Error de conexión\")"
   ]
  },
  {
   "cell_type": "code",
   "execution_count": 4,
   "metadata": {},
   "outputs": [
    {
     "data": {
      "text/plain": [
       "[Row(status='View INEGI_DATA successfully created.')]"
      ]
     },
     "execution_count": 4,
     "metadata": {},
     "output_type": "execute_result"
    }
   ],
   "source": [
    "#Crear vista \n",
    "query = \"create or replace  view INEGI_DATA as select \" + \\\n",
    " \"v:ENTIDAD::int as entidad,\" + \\\n",
    " \"v:MUN::int as municipio,\" + \\\n",
    " \"v:NOM_MUN::string as nom_municipio,\" + \\\n",
    " \"v:LOC::string as localidad,\" + \\\n",
    " \"v:NOM_LOC::string as nom_localidad,\" + \\\n",
    " \"v:LONGITUD::float as longitud,\" + \\\n",
    " \"v:LATITUD::float as latitud,\" + \\\n",
    " \"v:ALTITUD::int as altitud,\" + \\\n",
    " \"v:POBTOT::int as pob_total,\" + \\\n",
    " \"v:POBFEM::int as pob_fem,\" + \\\n",
    " \"v:POBMAS::int as pob_masc,\" + \\\n",
    " \"v:PCON_DISC::int as pob_discapacidad,\" + \\\n",
    " \"v:GRAPROES::int as pob_escolaridad,\" + \\\n",
    " \"v:GRAPROES_F::int as pob_esco_fem,\" + \\\n",
    " \"v:GRAPROES_M::int as pob_esco_masc,\" + \\\n",
    " \"v:PSINDER::int as pob_sssalud,\" + \\\n",
    " \"v:PDER_SS::int as pob_cssalud,\" + \\\n",
    " \"v:VIVTOT::int as total_vivienda,\" + \\\n",
    " \"v:TVIVHAB::int total_habitada,\" + \\\n",
    " \"v:VPH_INTER::int as hab_internet \" + \\\n",
    " \"from INEGI_RAW;\"\n",
    "sesion.sql(query).collect()\n",
    "\n"
   ]
  },
  {
   "cell_type": "code",
   "execution_count": 26,
   "metadata": {},
   "outputs": [],
   "source": [
    "#UDF declaración\n",
    "entidad_udf = sesion.udf.register_from_file(file_path='@inegi/entidad.py',func_name='nom_entidad',return_type=StringType(),input_types=[IntegerType()],is_permanent=True, name=\"nom_entidad\",stage_location=\"@inegi\")"
   ]
  },
  {
   "cell_type": "code",
   "execution_count": 27,
   "metadata": {},
   "outputs": [
    {
     "data": {
      "text/plain": [
       "[Row(status='View INEGI_MAPA successfully created.')]"
      ]
     },
     "execution_count": 27,
     "metadata": {},
     "output_type": "execute_result"
    }
   ],
   "source": [
    "#Vista con totales por entidad aplicando UDF para convertir número de entidad x nombre entidad\n",
    "viewquery = \"create or replace view INEGI_MAPA as \" + \\\n",
    "\"with poblacion_lat as ( select latitud,longitud, nom_entidad(entidad) as nom_entidad,\" + \\\n",
    "\"ROW_NUMBER() OVER(PARTITION BY nom_entidad ORDER BY nom_entidad DESC) AS row_number from INEGI_DATA),\" + \\\n",
    "\"poblacion_t as (select sum(pob_total) as poblacion_total,nom_entidad(entidad) as nom_entidad from \" + \\\n",
    "\"INEGI_DATA group by entidad order by poblacion_total desc)\" + \\\n",
    "\" select pl.nom_entidad,pt.poblacion_total, pl.latitud, pl.longitud\" + \\\n",
    "\" from poblacion_lat pl left join poblacion_t pt on pl.nom_entidad = pt.nom_entidad\" + \\\n",
    "\" where row_number = 1;\"\n",
    "sesion.sql(viewquery).collect()"
   ]
  },
  {
   "cell_type": "code",
   "execution_count": 31,
   "metadata": {},
   "outputs": [
    {
     "name": "stdout",
     "output_type": "stream",
     "text": [
      "---------------------------------------------------------------------------------------\n",
      "|\"NOM_ENTIDAD\"         |\"POBLACION_TOTAL\"  |\"LATITUD\"           |\"LONGITUD\"           |\n",
      "---------------------------------------------------------------------------------------\n",
      "|TLAXCALA              |1342977            |19.404180277777776  |-98.04882305555556   |\n",
      "|BAJA CALIFORNIA SUR   |798447             |23.466304166666667  |-109.72155111111113  |\n",
      "|DURANGO               |1832650            |23.07258638888889   |-104.96738694444444  |\n",
      "|SINALOA               |3026943            |24.771613055555555  |-107.1156672222222   |\n",
      "|MEXICO                |16992418           |19.489337777777777  |-99.34708166666668   |\n",
      "|OAXACA                |4132148            |17.465217777777777  |-95.23456138888888   |\n",
      "|PUEBLA                |6583278            |20.03848888888889   |-97.27450888888887   |\n",
      "|COAHUILA DE ZARAGOZA  |3146771            |25.794352777777775  |-103.08951666666668  |\n",
      "|BAJA CALIFORNIA       |3769020            |30.096982777777775  |-115.6571538888889   |\n",
      "|TABASCO               |2402598            |18.276460277777776  |-92.33221555555556   |\n",
      "---------------------------------------------------------------------------------------\n",
      "\n"
     ]
    }
   ],
   "source": [
    "#Validar la vista solo con totales por entidad\n",
    "df_entidad = sesion.table(\"INEGI_MAPA\")\n",
    "df_entidad.show()"
   ]
  },
  {
   "cell_type": "code",
   "execution_count": 32,
   "metadata": {},
   "outputs": [],
   "source": [
    "sesion.close()"
   ]
  }
 ],
 "metadata": {
  "kernelspec": {
   "display_name": "Python 3.8.13 ('snowpark_env')",
   "language": "python",
   "name": "python3"
  },
  "language_info": {
   "codemirror_mode": {
    "name": "ipython",
    "version": 3
   },
   "file_extension": ".py",
   "mimetype": "text/x-python",
   "name": "python",
   "nbconvert_exporter": "python",
   "pygments_lexer": "ipython3",
   "version": "3.8.13"
  },
  "orig_nbformat": 4,
  "vscode": {
   "interpreter": {
    "hash": "d02ed8ebcaf737aa77f4daf707421e72280383db8c31fc293f4cc947da23ff29"
   }
  }
 },
 "nbformat": 4,
 "nbformat_minor": 2
}
